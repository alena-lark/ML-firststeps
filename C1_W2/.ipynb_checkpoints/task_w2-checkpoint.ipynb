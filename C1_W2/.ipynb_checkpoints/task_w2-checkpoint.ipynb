{
 "cells": [
  {
   "cell_type": "code",
   "execution_count": 1,
   "metadata": {},
   "outputs": [],
   "source": [
    "import numpy as np\n",
    "from scipy.spatial import distance\n",
    "from scipy.linalg import solve\n",
    "import re\n",
    "import math\n",
    "import matplotlib.pylab as plt"
   ]
  },
  {
   "cell_type": "markdown",
   "metadata": {},
   "source": [
    "## Sub 1"
   ]
  },
  {
   "cell_type": "code",
   "execution_count": 134,
   "metadata": {},
   "outputs": [],
   "source": [
    "data = []\n",
    "with open('text.txt', 'r') as inf:\n",
    "    for line in inf:\n",
    "        line = re.split('[^a-z]', line.strip().lower())\n",
    "        new_line = []\n",
    "        for word in line:\n",
    "            if word != '':\n",
    "                new_line.append(word)\n",
    "        data.append(new_line)"
   ]
  },
  {
   "cell_type": "code",
   "execution_count": 135,
   "metadata": {},
   "outputs": [
    {
     "data": {
      "text/plain": [
       "['in',\n",
       " 'comparison',\n",
       " 'to',\n",
       " 'dogs',\n",
       " 'cats',\n",
       " 'have',\n",
       " 'not',\n",
       " 'undergone',\n",
       " 'major',\n",
       " 'changes',\n",
       " 'during',\n",
       " 'the',\n",
       " 'domestication',\n",
       " 'process']"
      ]
     },
     "execution_count": 135,
     "metadata": {},
     "output_type": "execute_result"
    }
   ],
   "source": [
    "data[0]"
   ]
  },
  {
   "cell_type": "code",
   "execution_count": 136,
   "metadata": {},
   "outputs": [],
   "source": [
    "word_count = {}\n",
    "for line in data:\n",
    "    for word in line:\n",
    "        if word in word_count.keys():\n",
    "            word_count[word] += 1\n",
    "        else:\n",
    "            word_count[word] = 1"
   ]
  },
  {
   "cell_type": "code",
   "execution_count": 137,
   "metadata": {},
   "outputs": [
    {
     "data": {
      "text/plain": [
       "254"
      ]
     },
     "execution_count": 137,
     "metadata": {},
     "output_type": "execute_result"
    }
   ],
   "source": [
    "len(word_count)"
   ]
  },
  {
   "cell_type": "code",
   "execution_count": 138,
   "metadata": {},
   "outputs": [
    {
     "data": {
      "text/plain": [
       "{'in': 11,\n",
       " 'comparison': 1,\n",
       " 'to': 14,\n",
       " 'dogs': 1,\n",
       " 'cats': 4,\n",
       " 'have': 2,\n",
       " 'not': 1,\n",
       " 'undergone': 1,\n",
       " 'major': 2,\n",
       " 'changes': 2,\n",
       " 'during': 1,\n",
       " 'the': 20,\n",
       " 'domestication': 1,\n",
       " 'process': 2,\n",
       " 'as': 6,\n",
       " 'cat': 10,\n",
       " 'simply': 2,\n",
       " 'catenates': 1,\n",
       " 'streams': 1,\n",
       " 'of': 19,\n",
       " 'bytes': 2,\n",
       " 'it': 4,\n",
       " 'can': 3,\n",
       " 'be': 3,\n",
       " 'also': 2,\n",
       " 'used': 1,\n",
       " 'concatenate': 2,\n",
       " 'binary': 1,\n",
       " 'files': 1,\n",
       " 'where': 2,\n",
       " 'will': 2,\n",
       " 'just': 3,\n",
       " 'sequence': 2,\n",
       " 'a': 13,\n",
       " 'common': 1,\n",
       " 'interactive': 1,\n",
       " 'use': 2,\n",
       " 'for': 4,\n",
       " 'single': 1,\n",
       " 'file': 5,\n",
       " 'is': 7,\n",
       " 'output': 3,\n",
       " 'content': 2,\n",
       " 'standard': 1,\n",
       " 'hear': 1,\n",
       " 'sounds': 1,\n",
       " 'too': 2,\n",
       " 'faint': 1,\n",
       " 'or': 3,\n",
       " 'high': 1,\n",
       " 'frequency': 1,\n",
       " 'human': 2,\n",
       " 'ears': 1,\n",
       " 'such': 2,\n",
       " 'those': 1,\n",
       " 'made': 1,\n",
       " 'by': 3,\n",
       " 'mice': 1,\n",
       " 'and': 14,\n",
       " 'other': 2,\n",
       " 'small': 2,\n",
       " 'animals': 1,\n",
       " 'one': 4,\n",
       " 'people': 1,\n",
       " 'deliberately': 1,\n",
       " 'tamed': 1,\n",
       " 'artificial': 1,\n",
       " 'selection': 1,\n",
       " 'they': 1,\n",
       " 'were': 2,\n",
       " 'useful': 1,\n",
       " 'predators': 1,\n",
       " 'vermin': 1,\n",
       " 'domesticated': 1,\n",
       " 'its': 2,\n",
       " 'closest': 1,\n",
       " 'wild': 1,\n",
       " 'ancestor': 1,\n",
       " 'are': 2,\n",
       " 'both': 1,\n",
       " 'diploid': 1,\n",
       " 'organisms': 1,\n",
       " 'that': 2,\n",
       " 'possess': 1,\n",
       " 'chromosomes': 1,\n",
       " 'roughly': 1,\n",
       " 'genes': 1,\n",
       " 'domestic': 1,\n",
       " 'similar': 1,\n",
       " 'size': 1,\n",
       " 'members': 1,\n",
       " 'genus': 1,\n",
       " 'felis': 1,\n",
       " 'typically': 1,\n",
       " 'weighing': 1,\n",
       " 'between': 1,\n",
       " 'kg': 1,\n",
       " 'lb': 1,\n",
       " 'however': 1,\n",
       " 'if': 1,\n",
       " 'piped': 1,\n",
       " 'redirected': 2,\n",
       " 'unnecessary': 1,\n",
       " 'with': 2,\n",
       " 'named': 1,\n",
       " 'safer': 1,\n",
       " 'error': 1,\n",
       " 'concern': 1,\n",
       " 'wrong': 1,\n",
       " 'default': 1,\n",
       " 'redirection': 2,\n",
       " 'symbol': 1,\n",
       " 'instead': 1,\n",
       " 'often': 1,\n",
       " 'adjacent': 1,\n",
       " 'on': 5,\n",
       " 'keyboards': 1,\n",
       " 'may': 1,\n",
       " 'permanently': 1,\n",
       " 'delete': 1,\n",
       " 'you': 5,\n",
       " 'needing': 1,\n",
       " 'read': 1,\n",
       " 'terms': 1,\n",
       " 'legibility': 1,\n",
       " 'commands': 2,\n",
       " 'starting': 1,\n",
       " 'connected': 1,\n",
       " 'pipes': 1,\n",
       " 'has': 4,\n",
       " 'clear': 1,\n",
       " 'left': 1,\n",
       " 'right': 1,\n",
       " 'flow': 1,\n",
       " 'information': 1,\n",
       " 'command': 3,\n",
       " 'basic': 1,\n",
       " 'learned': 1,\n",
       " 'when': 2,\n",
       " 'started': 1,\n",
       " 'unix': 1,\n",
       " 'linux': 1,\n",
       " 'world': 1,\n",
       " 'using': 3,\n",
       " 'lines': 1,\n",
       " 'received': 1,\n",
       " 'from': 1,\n",
       " 'stdin': 2,\n",
       " 'new': 2,\n",
       " 'symbols': 1,\n",
       " 'type': 1,\n",
       " 'without': 1,\n",
       " 'any': 1,\n",
       " 'arguments': 1,\n",
       " 'receives': 1,\n",
       " 'displays': 1,\n",
       " 'stdout': 1,\n",
       " 'leopard': 4,\n",
       " 'was': 2,\n",
       " 'released': 3,\n",
       " 'october': 1,\n",
       " 'successor': 1,\n",
       " 'tiger': 3,\n",
       " 'version': 1,\n",
       " 'available': 1,\n",
       " 'two': 1,\n",
       " 'editions': 1,\n",
       " 'according': 1,\n",
       " 'apple': 8,\n",
       " 'contains': 2,\n",
       " 'over': 2,\n",
       " 'enhancements': 1,\n",
       " 'predecessor': 1,\n",
       " 'mac': 6,\n",
       " 'os': 8,\n",
       " 'x': 9,\n",
       " 'mid': 1,\n",
       " 'some': 1,\n",
       " 'computers': 3,\n",
       " 'firmware': 1,\n",
       " 'factory': 1,\n",
       " 'installed': 2,\n",
       " 'which': 1,\n",
       " 'no': 1,\n",
       " 'longer': 1,\n",
       " 'allow': 1,\n",
       " 'installation': 2,\n",
       " 'since': 1,\n",
       " 'moved': 1,\n",
       " 'intel': 1,\n",
       " 'processors': 1,\n",
       " 'their': 1,\n",
       " 'osx': 1,\n",
       " 'community': 1,\n",
       " 'developed': 1,\n",
       " 'now': 1,\n",
       " 'allows': 1,\n",
       " 'later': 1,\n",
       " 'releases': 1,\n",
       " 'non': 1,\n",
       " 'based': 1,\n",
       " 'mountain': 5,\n",
       " 'lion': 4,\n",
       " 'july': 1,\n",
       " 'purchase': 1,\n",
       " 'download': 1,\n",
       " 'through': 1,\n",
       " 's': 2,\n",
       " 'app': 1,\n",
       " 'store': 1,\n",
       " 'part': 1,\n",
       " 'switch': 1,\n",
       " 'releasing': 2,\n",
       " 'versions': 2,\n",
       " 'online': 1,\n",
       " 'every': 1,\n",
       " 'year': 1,\n",
       " 'patch': 1,\n",
       " 'three': 1,\n",
       " 'most': 1,\n",
       " 'recent': 1,\n",
       " 'safari': 1,\n",
       " 'running': 1,\n",
       " 'yosemite': 1,\n",
       " 'mavericks': 1,\n",
       " 'release': 1,\n",
       " 'marks': 1,\n",
       " 'second': 1,\n",
       " 'time': 1,\n",
       " 'offered': 1,\n",
       " 'an': 2,\n",
       " 'incremental': 1,\n",
       " 'upgrade': 1,\n",
       " 'rather': 1,\n",
       " 'than': 2,\n",
       " 'entirely': 1,\n",
       " 'installs': 1,\n",
       " 'place': 1,\n",
       " 'so': 1,\n",
       " 'won': 1,\n",
       " 't': 1,\n",
       " 'need': 1,\n",
       " 'create': 1,\n",
       " 'separate': 1,\n",
       " 'disk': 1,\n",
       " 'run': 1,\n",
       " 'off': 1,\n",
       " 'external': 1,\n",
       " 'drive': 1,\n",
       " 'fifth': 1,\n",
       " 'update': 1,\n",
       " 'features': 1,\n",
       " 'more': 1,\n",
       " 'count': 1}"
      ]
     },
     "execution_count": 138,
     "metadata": {},
     "output_type": "execute_result"
    }
   ],
   "source": [
    "word_count"
   ]
  },
  {
   "cell_type": "code",
   "execution_count": 139,
   "metadata": {},
   "outputs": [],
   "source": [
    "word_line = []\n",
    "\n",
    "for line in data:\n",
    "    check_line = {}\n",
    "    for word in word_count.keys():\n",
    "        if word in check_line.keys():\n",
    "            pass\n",
    "        elif word in line:\n",
    "            check_line[word] = line.count(word)\n",
    "        else:\n",
    "            check_line[word] = 0\n",
    "            \n",
    "    word_line.append(check_line)"
   ]
  },
  {
   "cell_type": "code",
   "execution_count": 140,
   "metadata": {},
   "outputs": [
    {
     "data": {
      "text/plain": [
       "22"
      ]
     },
     "execution_count": 140,
     "metadata": {},
     "output_type": "execute_result"
    }
   ],
   "source": [
    "len(word_line)"
   ]
  },
  {
   "cell_type": "code",
   "execution_count": 141,
   "metadata": {},
   "outputs": [
    {
     "data": {
      "text/plain": [
       "22"
      ]
     },
     "execution_count": 141,
     "metadata": {},
     "output_type": "execute_result"
    }
   ],
   "source": [
    "mat = []\n",
    "for line in word_line:\n",
    "    append = []\n",
    "    for num in line.values():\n",
    "        append.append(num)\n",
    "    mat.append(append)\n",
    "len(mat)"
   ]
  },
  {
   "cell_type": "code",
   "execution_count": 142,
   "metadata": {},
   "outputs": [
    {
     "data": {
      "text/plain": [
       "254"
      ]
     },
     "execution_count": 142,
     "metadata": {},
     "output_type": "execute_result"
    }
   ],
   "source": [
    "len(mat[0])"
   ]
  },
  {
   "cell_type": "code",
   "execution_count": 143,
   "metadata": {},
   "outputs": [],
   "source": [
    "matrix = np.array([line for line in mat])"
   ]
  },
  {
   "cell_type": "code",
   "execution_count": 144,
   "metadata": {},
   "outputs": [
    {
     "data": {
      "text/plain": [
       "(22, 254)"
      ]
     },
     "execution_count": 144,
     "metadata": {},
     "output_type": "execute_result"
    }
   ],
   "source": [
    "matrix.shape"
   ]
  },
  {
   "cell_type": "code",
   "execution_count": 145,
   "metadata": {},
   "outputs": [],
   "source": [
    "v = matrix[0]\n",
    "dist = {}\n",
    "for i, vector in enumerate(matrix):\n",
    "    dist[i] = distance.cosine(v, vector)\n"
   ]
  },
  {
   "cell_type": "code",
   "execution_count": 146,
   "metadata": {},
   "outputs": [
    {
     "data": {
      "text/plain": [
       "{0: 0.0,\n",
       " 1: 0.9527544408738466,\n",
       " 2: 0.8644738145642124,\n",
       " 3: 0.8951715163278082,\n",
       " 4: 0.7770887149698589,\n",
       " 5: 0.9402385695332803,\n",
       " 6: 0.7327387580875756,\n",
       " 7: 0.9258750683338899,\n",
       " 8: 0.8842724875284311,\n",
       " 9: 0.9055088817476932,\n",
       " 10: 0.8328165362273942,\n",
       " 11: 0.8804771390665607,\n",
       " 12: 0.8396432548525454,\n",
       " 13: 0.8703592552895671,\n",
       " 14: 0.8740118423302576,\n",
       " 15: 0.9442721787424647,\n",
       " 16: 0.8406361854220809,\n",
       " 17: 0.956644501523794,\n",
       " 18: 0.9442721787424647,\n",
       " 19: 0.8885443574849294,\n",
       " 20: 0.8427572744917122,\n",
       " 21: 0.8250364469440588}"
      ]
     },
     "execution_count": 146,
     "metadata": {},
     "output_type": "execute_result"
    }
   ],
   "source": [
    "dist"
   ]
  },
  {
   "cell_type": "markdown",
   "metadata": {},
   "source": [
    "Answer: 1, 17"
   ]
  },
  {
   "cell_type": "code",
   "execution_count": 149,
   "metadata": {},
   "outputs": [
    {
     "data": {
      "text/plain": [
       "[0.0,\n",
       " 0.7327387580875756,\n",
       " 0.7770887149698589,\n",
       " 0.8250364469440588,\n",
       " 0.8328165362273942,\n",
       " 0.8396432548525454,\n",
       " 0.8406361854220809,\n",
       " 0.8427572744917122,\n",
       " 0.8644738145642124,\n",
       " 0.8703592552895671,\n",
       " 0.8740118423302576,\n",
       " 0.8804771390665607,\n",
       " 0.8842724875284311,\n",
       " 0.8885443574849294,\n",
       " 0.8951715163278082,\n",
       " 0.9055088817476932,\n",
       " 0.9258750683338899,\n",
       " 0.9402385695332803,\n",
       " 0.9442721787424647,\n",
       " 0.9442721787424647,\n",
       " 0.9527544408738466,\n",
       " 0.956644501523794]"
      ]
     },
     "execution_count": 149,
     "metadata": {},
     "output_type": "execute_result"
    }
   ],
   "source": [
    "sorted(dist.values(), reverse=False)    "
   ]
  },
  {
   "cell_type": "markdown",
   "metadata": {},
   "source": [
    "## Sub 2"
   ]
  },
  {
   "cell_type": "markdown",
   "metadata": {},
   "source": [
    "f(x) = sin(x / 5) * exp(x / 10) + 5 * exp(-x / 2)"
   ]
  },
  {
   "cell_type": "code",
   "execution_count": 15,
   "metadata": {},
   "outputs": [],
   "source": [
    "def f(x):\n",
    "    f = math.sin(x/5) * math.exp(x/10) + 5*math.exp(-x/2)\n",
    "    return f"
   ]
  },
  {
   "cell_type": "code",
   "execution_count": 114,
   "metadata": {},
   "outputs": [
    {
     "data": {
      "image/png": "[encoded data removed]",
      "text/plain": [
       "<Figure size 432x288 with 1 Axes>"
      ]
     },
     "metadata": {
      "needs_background": "light"
     },
     "output_type": "display_data"
    }
   ],
   "source": [
    "x = np.arange(1, 15, 0.1)\n",
    "y = [f(i) for i in x]\n",
    "plt.plot(x, y)\n",
    "plt.show()"
   ]
  },
  {
   "cell_type": "code",
   "execution_count": 118,
   "metadata": {},
   "outputs": [
    {
     "data": {
      "text/plain": [
       "array([ 3.43914511, -0.18692825])"
      ]
     },
     "execution_count": 118,
     "metadata": {},
     "output_type": "execute_result"
    }
   ],
   "source": [
    "A = np.array([[1, 1],[1, 15]])\n",
    "b = np.array([f(1), f(15)])\n",
    "ans1 = solve(A, b)\n",
    "ans1"
   ]
  },
  {
   "cell_type": "code",
   "execution_count": 120,
   "metadata": {},
   "outputs": [
    {
     "data": {
      "text/plain": [
       "(3.2522168652714187, 0.6352214195786656)"
      ]
     },
     "execution_count": 120,
     "metadata": {},
     "output_type": "execute_result"
    }
   ],
   "source": [
    "f1 = 1 * ans1[1] + ans1[0]\n",
    "f2 = 15* ans1[1] + ans1[0]\n",
    "f1, f2"
   ]
  },
  {
   "cell_type": "code",
   "execution_count": 123,
   "metadata": {},
   "outputs": [
    {
     "data": {
      "image/png": "[encoded data removed]",
      "text/plain": [
       "<Figure size 432x288 with 1 Axes>"
      ]
     },
     "metadata": {
      "needs_background": "light"
     },
     "output_type": "display_data"
    }
   ],
   "source": [
    "def f1_(x):\n",
    "    f1_ = x * ans1[1] + ans1[0]\n",
    "    return f1_\n",
    "\n",
    "plt.plot(x,y)\n",
    "plt.plot(x, [f1_(i) for i in x])\n",
    "plt.show()"
   ]
  },
  {
   "cell_type": "code",
   "execution_count": null,
   "metadata": {},
   "outputs": [],
   "source": []
  },
  {
   "cell_type": "code",
   "execution_count": 183,
   "metadata": {},
   "outputs": [
    {
     "data": {
      "text/plain": [
       "array([ 3.32512949, -0.06531159, -0.00760104])"
      ]
     },
     "execution_count": 183,
     "metadata": {},
     "output_type": "execute_result"
    }
   ],
   "source": [
    "A = np.array([[1, 1, 1], [1, 8, 64], [1, 15, 15**2]])\n",
    "b = np.array([f(1), f(8), f(15)])\n",
    "ans2 = solve(A, b)\n",
    "ans2"
   ]
  },
  {
   "cell_type": "code",
   "execution_count": 181,
   "metadata": {},
   "outputs": [
    {
     "data": {
      "text/plain": [
       "[3.252216865271419, 2.316170159053224, 0.6352214195786683]"
      ]
     },
     "execution_count": 181,
     "metadata": {},
     "output_type": "execute_result"
    }
   ],
   "source": [
    "w0 = np.array([1, 1, 1]).dot(ans2)\n",
    "w1 = np.array([1, 8, 15]).dot(ans2)\n",
    "w2 = np.array([1, 64, 225]).dot(ans2)\n",
    "f2 = [w0, w1, w2]\n",
    "f2"
   ]
  },
  {
   "cell_type": "code",
   "execution_count": 184,
   "metadata": {},
   "outputs": [
    {
     "data": {
      "image/png": "[encoded data removed]",
      "text/plain": [
       "<Figure size 432x288 with 1 Axes>"
      ]
     },
     "metadata": {
      "needs_background": "light"
     },
     "output_type": "display_data"
    }
   ],
   "source": [
    "def f2_(x):\n",
    "    f2_ = x **2 * ans2[2] + x * ans2[1] + ans2[0]\n",
    "    return f2_\n",
    "\n",
    "plt.plot(x,y)\n",
    "plt.plot(x, f1_(x))\n",
    "plt.plot(x, f2_(x))\n",
    "plt.show()"
   ]
  },
  {
   "cell_type": "code",
   "execution_count": null,
   "metadata": {},
   "outputs": [],
   "source": []
  },
  {
   "cell_type": "code",
   "execution_count": 185,
   "metadata": {},
   "outputs": [
    {
     "data": {
      "text/plain": [
       "array([ 4.36264154, -1.29552587,  0.19333685, -0.00823565])"
      ]
     },
     "execution_count": 185,
     "metadata": {},
     "output_type": "execute_result"
    }
   ],
   "source": [
    "A = np.array([[1, 1, 1, 1], [1, 4, 4**2, 4**3], [1, 10, 10**2, 10**3], [1, 15, 15**2, 15**3]])\n",
    "b = np.array([f(1), f(4), f(10), f(15)])\n",
    "ans3 = solve(A, b)\n",
    "ans3"
   ]
  },
  {
   "cell_type": "code",
   "execution_count": 188,
   "metadata": {},
   "outputs": [
    {
     "data": {
      "text/plain": [
       "[3.2522168652714187, 0.9903717749540031, 1.1148908721546147, 86.99051044220298]"
      ]
     },
     "execution_count": 188,
     "metadata": {},
     "output_type": "execute_result"
    }
   ],
   "source": [
    "v0 = np.array([1, 1, 1, 1]).dot(ans3)\n",
    "v1 = np.array([1, 4, 10, 15]).dot(ans3)\n",
    "v2 = np.array([1, 16, 10**2, 15**2]).dot(ans3)\n",
    "v3 = np.array([1, 4**3, 10**3, 15**3]).dot(ans3)\n",
    "f3 = [v0, v1, v2, v3]\n",
    "f3"
   ]
  },
  {
   "cell_type": "code",
   "execution_count": 189,
   "metadata": {},
   "outputs": [
    {
     "data": {
      "image/png": "[encoded data removed]",
      "text/plain": [
       "<Figure size 432x288 with 1 Axes>"
      ]
     },
     "metadata": {
      "needs_background": "light"
     },
     "output_type": "display_data"
    }
   ],
   "source": [
    "def f3_(x):\n",
    "    f3_ = x**3 * ans3[3] + x**2 * ans3[2] + x * ans3[1] + ans3[0]\n",
    "    return f3_\n",
    "\n",
    "plt.plot(x,y) # original - blue\n",
    "plt.plot(x, f1_(x)) # 1 orange\n",
    "plt.plot(x, f2_(x)) # 2 green\n",
    "plt.plot(x, f3_(x)) # 3 red\n",
    "plt.show()"
   ]
  },
  {
   "cell_type": "code",
   "execution_count": null,
   "metadata": {},
   "outputs": [],
   "source": []
  }
 ],
 "metadata": {
  "kernelspec": {
   "display_name": "Python 3",
   "language": "python",
   "name": "python3"
  },
  "language_info": {
   "codemirror_mode": {
    "name": "ipython",
    "version": 3
   },
   "file_extension": ".py",
   "mimetype": "text/x-python",
   "name": "python",
   "nbconvert_exporter": "python",
   "pygments_lexer": "ipython3",
   "version": "3.8.5"
  }
 },
 "nbformat": 4,
 "nbformat_minor": 4
}
